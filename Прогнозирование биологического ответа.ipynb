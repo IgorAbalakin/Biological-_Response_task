{
 "cells": [
  {
   "cell_type": "code",
   "execution_count": 1,
   "id": "59ee53ff",
   "metadata": {},
   "outputs": [],
   "source": [
    "#импорт библиотек\n",
    "import numpy as np #для матричных вычислений\n",
    "import pandas as pd #для анализа и предобработки данных\n",
    "\n",
    "from sklearn import linear_model #линейные моделиё\n",
    "from sklearn import tree #деревья решений\n",
    "from sklearn import ensemble #ансамбли\n",
    "from sklearn import metrics #метрики\n",
    "from sklearn.model_selection import train_test_split #сплитование выборки\n",
    "from sklearn.model_selection import cross_val_score\n",
    "\n",
    "from sklearn.model_selection import GridSearchCV\n",
    "from sklearn.model_selection import RandomizedSearchCV\n",
    "\n",
    "import hyperopt\n",
    "from hyperopt import hp, fmin, tpe, Trials\n",
    "\n",
    "import optuna\n",
    "\n",
    "import seaborn as sns #для визуализации"
   ]
  },
  {
   "cell_type": "code",
   "execution_count": 2,
   "id": "a156b380",
   "metadata": {},
   "outputs": [],
   "source": [
    "import warnings\n",
    "from sklearn.utils._testing import ignore_warnings\n",
    "from sklearn.exceptions import ConvergenceWarning\n",
    "warnings.filterwarnings(\"ignore\", category=UserWarning)"
   ]
  },
  {
   "cell_type": "code",
   "execution_count": 3,
   "id": "69c1f21e",
   "metadata": {},
   "outputs": [
    {
     "data": {
      "text/html": [
       "<div>\n",
       "<style scoped>\n",
       "    .dataframe tbody tr th:only-of-type {\n",
       "        vertical-align: middle;\n",
       "    }\n",
       "\n",
       "    .dataframe tbody tr th {\n",
       "        vertical-align: top;\n",
       "    }\n",
       "\n",
       "    .dataframe thead th {\n",
       "        text-align: right;\n",
       "    }\n",
       "</style>\n",
       "<table border=\"1\" class=\"dataframe\">\n",
       "  <thead>\n",
       "    <tr style=\"text-align: right;\">\n",
       "      <th></th>\n",
       "      <th>Activity</th>\n",
       "      <th>D1</th>\n",
       "      <th>D2</th>\n",
       "      <th>D3</th>\n",
       "      <th>D4</th>\n",
       "      <th>D5</th>\n",
       "      <th>D6</th>\n",
       "      <th>D7</th>\n",
       "      <th>D8</th>\n",
       "      <th>D9</th>\n",
       "      <th>...</th>\n",
       "      <th>D1767</th>\n",
       "      <th>D1768</th>\n",
       "      <th>D1769</th>\n",
       "      <th>D1770</th>\n",
       "      <th>D1771</th>\n",
       "      <th>D1772</th>\n",
       "      <th>D1773</th>\n",
       "      <th>D1774</th>\n",
       "      <th>D1775</th>\n",
       "      <th>D1776</th>\n",
       "    </tr>\n",
       "  </thead>\n",
       "  <tbody>\n",
       "    <tr>\n",
       "      <th>0</th>\n",
       "      <td>1</td>\n",
       "      <td>0.000000</td>\n",
       "      <td>0.497009</td>\n",
       "      <td>0.10</td>\n",
       "      <td>0.0</td>\n",
       "      <td>0.132956</td>\n",
       "      <td>0.678031</td>\n",
       "      <td>0.273166</td>\n",
       "      <td>0.585445</td>\n",
       "      <td>0.743663</td>\n",
       "      <td>...</td>\n",
       "      <td>0</td>\n",
       "      <td>0</td>\n",
       "      <td>0</td>\n",
       "      <td>0</td>\n",
       "      <td>0</td>\n",
       "      <td>0</td>\n",
       "      <td>0</td>\n",
       "      <td>0</td>\n",
       "      <td>0</td>\n",
       "      <td>0</td>\n",
       "    </tr>\n",
       "    <tr>\n",
       "      <th>1</th>\n",
       "      <td>1</td>\n",
       "      <td>0.366667</td>\n",
       "      <td>0.606291</td>\n",
       "      <td>0.05</td>\n",
       "      <td>0.0</td>\n",
       "      <td>0.111209</td>\n",
       "      <td>0.803455</td>\n",
       "      <td>0.106105</td>\n",
       "      <td>0.411754</td>\n",
       "      <td>0.836582</td>\n",
       "      <td>...</td>\n",
       "      <td>1</td>\n",
       "      <td>1</td>\n",
       "      <td>1</td>\n",
       "      <td>1</td>\n",
       "      <td>0</td>\n",
       "      <td>1</td>\n",
       "      <td>0</td>\n",
       "      <td>0</td>\n",
       "      <td>1</td>\n",
       "      <td>0</td>\n",
       "    </tr>\n",
       "    <tr>\n",
       "      <th>2</th>\n",
       "      <td>1</td>\n",
       "      <td>0.033300</td>\n",
       "      <td>0.480124</td>\n",
       "      <td>0.00</td>\n",
       "      <td>0.0</td>\n",
       "      <td>0.209791</td>\n",
       "      <td>0.610350</td>\n",
       "      <td>0.356453</td>\n",
       "      <td>0.517720</td>\n",
       "      <td>0.679051</td>\n",
       "      <td>...</td>\n",
       "      <td>0</td>\n",
       "      <td>0</td>\n",
       "      <td>0</td>\n",
       "      <td>0</td>\n",
       "      <td>0</td>\n",
       "      <td>0</td>\n",
       "      <td>0</td>\n",
       "      <td>0</td>\n",
       "      <td>0</td>\n",
       "      <td>0</td>\n",
       "    </tr>\n",
       "    <tr>\n",
       "      <th>3</th>\n",
       "      <td>1</td>\n",
       "      <td>0.000000</td>\n",
       "      <td>0.538825</td>\n",
       "      <td>0.00</td>\n",
       "      <td>0.5</td>\n",
       "      <td>0.196344</td>\n",
       "      <td>0.724230</td>\n",
       "      <td>0.235606</td>\n",
       "      <td>0.288764</td>\n",
       "      <td>0.805110</td>\n",
       "      <td>...</td>\n",
       "      <td>0</td>\n",
       "      <td>0</td>\n",
       "      <td>0</td>\n",
       "      <td>0</td>\n",
       "      <td>0</td>\n",
       "      <td>0</td>\n",
       "      <td>0</td>\n",
       "      <td>0</td>\n",
       "      <td>0</td>\n",
       "      <td>0</td>\n",
       "    </tr>\n",
       "    <tr>\n",
       "      <th>4</th>\n",
       "      <td>0</td>\n",
       "      <td>0.100000</td>\n",
       "      <td>0.517794</td>\n",
       "      <td>0.00</td>\n",
       "      <td>0.0</td>\n",
       "      <td>0.494734</td>\n",
       "      <td>0.781422</td>\n",
       "      <td>0.154361</td>\n",
       "      <td>0.303809</td>\n",
       "      <td>0.812646</td>\n",
       "      <td>...</td>\n",
       "      <td>0</td>\n",
       "      <td>0</td>\n",
       "      <td>0</td>\n",
       "      <td>0</td>\n",
       "      <td>0</td>\n",
       "      <td>0</td>\n",
       "      <td>0</td>\n",
       "      <td>0</td>\n",
       "      <td>0</td>\n",
       "      <td>0</td>\n",
       "    </tr>\n",
       "  </tbody>\n",
       "</table>\n",
       "<p>5 rows × 1777 columns</p>\n",
       "</div>"
      ],
      "text/plain": [
       "   Activity        D1        D2    D3   D4        D5        D6        D7  \\\n",
       "0         1  0.000000  0.497009  0.10  0.0  0.132956  0.678031  0.273166   \n",
       "1         1  0.366667  0.606291  0.05  0.0  0.111209  0.803455  0.106105   \n",
       "2         1  0.033300  0.480124  0.00  0.0  0.209791  0.610350  0.356453   \n",
       "3         1  0.000000  0.538825  0.00  0.5  0.196344  0.724230  0.235606   \n",
       "4         0  0.100000  0.517794  0.00  0.0  0.494734  0.781422  0.154361   \n",
       "\n",
       "         D8        D9  ...  D1767  D1768  D1769  D1770  D1771  D1772  D1773  \\\n",
       "0  0.585445  0.743663  ...      0      0      0      0      0      0      0   \n",
       "1  0.411754  0.836582  ...      1      1      1      1      0      1      0   \n",
       "2  0.517720  0.679051  ...      0      0      0      0      0      0      0   \n",
       "3  0.288764  0.805110  ...      0      0      0      0      0      0      0   \n",
       "4  0.303809  0.812646  ...      0      0      0      0      0      0      0   \n",
       "\n",
       "   D1774  D1775  D1776  \n",
       "0      0      0      0  \n",
       "1      0      1      0  \n",
       "2      0      0      0  \n",
       "3      0      0      0  \n",
       "4      0      0      0  \n",
       "\n",
       "[5 rows x 1777 columns]"
      ]
     },
     "execution_count": 3,
     "metadata": {},
     "output_type": "execute_result"
    }
   ],
   "source": [
    "data = pd.read_csv('_train_sem09 (1).csv')\n",
    "data.head()"
   ]
  },
  {
   "cell_type": "code",
   "execution_count": 4,
   "id": "6d3a15be",
   "metadata": {},
   "outputs": [
    {
     "data": {
      "image/png": "[encoded data removed]",
      "text/plain": [
       "<Figure size 432x288 with 1 Axes>"
      ]
     },
     "metadata": {
      "needs_background": "light"
     },
     "output_type": "display_data"
    }
   ],
   "source": [
    "sns.countplot(data=data, x='Activity');"
   ]
  },
  {
   "cell_type": "code",
   "execution_count": 5,
   "id": "d7f0a657",
   "metadata": {},
   "outputs": [],
   "source": [
    "X = data.drop(['Activity'], axis=1)\n",
    "y = data['Activity']"
   ]
  },
  {
   "cell_type": "code",
   "execution_count": 6,
   "id": "2326b725",
   "metadata": {},
   "outputs": [],
   "source": [
    "X_train, X_test, y_train, y_test = train_test_split(X, y, stratify=y, random_state = 1, test_size = 0.2)"
   ]
  },
  {
   "cell_type": "markdown",
   "id": "5c04785c",
   "metadata": {},
   "source": [
    "# Обучение без подбора гиперпараметров"
   ]
  },
  {
   "cell_type": "markdown",
   "id": "c9b5327a",
   "metadata": {},
   "source": [
    "Логистическая регрессия"
   ]
  },
  {
   "cell_type": "code",
   "execution_count": 7,
   "id": "8a4aa9fb",
   "metadata": {},
   "outputs": [
    {
     "name": "stdout",
     "output_type": "stream",
     "text": [
      "f1_score на обучающем наборе: 0.89\n",
      "f1_score на тестовом наборе: 0.78\n",
      "Wall time: 2.38 s\n"
     ]
    }
   ],
   "source": [
    "%%time\n",
    "#Создаем объект класса логистическая регрессия\n",
    "log_reg = linear_model.LogisticRegression(max_iter=1000)\n",
    "#Обучаем модель, минимизируя logloss\n",
    "log_reg.fit(X_train, y_train)\n",
    "y_train_pred = log_reg.predict(X_train)\n",
    "print('f1_score на обучающем наборе: {:.2f}'.format(metrics.f1_score(y_train, y_train_pred)))\n",
    "y_test_pred = log_reg.predict(X_test)\n",
    "print('f1_score на тестовом наборе: {:.2f}'.format(metrics.f1_score(y_test, y_test_pred)))"
   ]
  },
  {
   "cell_type": "markdown",
   "id": "198aff34",
   "metadata": {},
   "source": [
    "Случайный лес"
   ]
  },
  {
   "cell_type": "code",
   "execution_count": 8,
   "id": "5fa47d92",
   "metadata": {},
   "outputs": [
    {
     "name": "stdout",
     "output_type": "stream",
     "text": [
      "f1_score на обучающем наборе: 1.00\n",
      "f1_score на тестовом наборе: 0.78\n",
      "Wall time: 2 s\n"
     ]
    }
   ],
   "source": [
    "%%time\n",
    "rf = ensemble.RandomForestClassifier(random_state=42)\n",
    "\n",
    "#Обучаем модель\n",
    "rf.fit(X_train, y_train)\n",
    "#Выводим значения метрики \n",
    "y_train_pred = rf.predict(X_train)\n",
    "print('f1_score на обучающем наборе: {:.2f}'.format(metrics.f1_score(y_train, y_train_pred)))\n",
    "y_test_pred = log_reg.predict(X_test)\n",
    "print('f1_score на тестовом наборе: {:.2f}'.format(metrics.f1_score(y_test, y_test_pred)))"
   ]
  },
  {
   "cell_type": "markdown",
   "id": "5f5db029",
   "metadata": {},
   "source": [
    "# GridSearchCV"
   ]
  },
  {
   "cell_type": "markdown",
   "id": "83bf8b49",
   "metadata": {},
   "source": [
    "Логистическая регрессия"
   ]
  },
  {
   "cell_type": "code",
   "execution_count": 9,
   "id": "a5d7bf7c",
   "metadata": {},
   "outputs": [
    {
     "name": "stdout",
     "output_type": "stream",
     "text": [
      "Wall time: 15min 51s\n",
      "f1_score на обучающем наборе: 0.85\n",
      "f1_score на тестовом наборе: 0.79\n",
      "Наилучшие значения гиперпараметров: {'C': 0.1, 'penalty': 'l2', 'solver': 'liblinear'}\n"
     ]
    }
   ],
   "source": [
    "# 2 набора параметров\n",
    "param_grid = [\n",
    "              {'penalty': ['l2', 'none'] , # тип регуляризации\n",
    "              'solver': ['lbfgs', 'sag'], # алгоритм оптимизации\n",
    "               'C': [0.01, 0.1, 0.3, 0.7, 1]}, # уровень силы регурялизации\n",
    "              \n",
    "              {'penalty': ['l1', 'l2'] ,\n",
    "              'solver': ['liblinear', 'saga'],\n",
    "               'C': [0.01, 0.1, 0.3, 0.7, 1]}\n",
    "]\n",
    "\n",
    "grid_search = GridSearchCV(\n",
    "    estimator=linear_model.LogisticRegression(random_state= 42, max_iter=1000), \n",
    "    param_grid=param_grid, \n",
    "    cv=5, \n",
    "    n_jobs = -1\n",
    ")  \n",
    "%time grid_search.fit(X_train, y_train) \n",
    "\n",
    "y_train_pred = grid_search.predict(X_train)\n",
    "print('f1_score на обучающем наборе: {:.2f}'.format(metrics.f1_score(y_train, y_train_pred)))\n",
    "\n",
    "y_test_pred = grid_search.predict(X_test)\n",
    "print('f1_score на тестовом наборе: {:.2f}'.format(metrics.f1_score(y_test, y_test_pred)))\n",
    "\n",
    "print(\"Наилучшие значения гиперпараметров: {}\".format(grid_search.best_params_))"
   ]
  },
  {
   "cell_type": "markdown",
   "id": "b8365f1f",
   "metadata": {},
   "source": [
    "Случайный лес"
   ]
  },
  {
   "cell_type": "code",
   "execution_count": 10,
   "id": "ffcb8678",
   "metadata": {},
   "outputs": [
    {
     "name": "stdout",
     "output_type": "stream",
     "text": [
      "Wall time: 20min 5s\n",
      "f1_score на обучающем наборе: 0.98\n",
      "f1_score на тестовом наборе: 0.82\n",
      "Наилучшие значения гиперпараметров: {'criterion': 'entropy', 'max_depth': 18, 'min_samples_leaf': 3, 'n_estimators': 200}\n"
     ]
    }
   ],
   "source": [
    "param_grid = {'n_estimators': [100, 200, 300],\n",
    "              'min_samples_leaf': [3, 4, 5, 6, 7],\n",
    "              'max_depth': list(np.linspace(15, 25, 11, dtype=int)),\n",
    "              'criterion':['entropy','gini']\n",
    "              }\n",
    "            \n",
    "grid_search = GridSearchCV(\n",
    "    estimator = ensemble.RandomForestClassifier(random_state=42),\n",
    "    param_grid = param_grid, \n",
    "    cv=5, \n",
    "    n_jobs = -1\n",
    ")  \n",
    "\n",
    "%time grid_search.fit(X_train, y_train) \n",
    "\n",
    "y_train_pred = grid_search.predict(X_train)\n",
    "print('f1_score на обучающем наборе: {:.2f}'.format(metrics.f1_score(y_train, y_train_pred)))\n",
    "\n",
    "y_test_pred = grid_search.predict(X_test)\n",
    "print('f1_score на тестовом наборе: {:.2f}'.format(metrics.f1_score(y_test, y_test_pred)))\n",
    "\n",
    "print(\"Наилучшие значения гиперпараметров: {}\".format(grid_search.best_params_))"
   ]
  },
  {
   "cell_type": "markdown",
   "id": "3cb85c90",
   "metadata": {},
   "source": [
    "# RandomizedSearchCV"
   ]
  },
  {
   "cell_type": "markdown",
   "id": "c757ebd5",
   "metadata": {},
   "source": [
    "Логистическая регрессия"
   ]
  },
  {
   "cell_type": "code",
   "execution_count": 11,
   "id": "2432a7b8",
   "metadata": {},
   "outputs": [
    {
     "name": "stdout",
     "output_type": "stream",
     "text": [
      "Wall time: 9min 49s\n",
      "f1_score на обучающем наборе: 0.85\n",
      "f1_score на тестовом наборе: 0.79\n",
      "Наилучшие значения гиперпараметров: {'solver': 'sag', 'penalty': 'l2', 'C': 0.1}\n"
     ]
    }
   ],
   "source": [
    "# 2 набора параметров\n",
    "param_grid = [\n",
    "              {'penalty': ['l2', 'none'] , # тип регуляризации\n",
    "              'solver': ['lbfgs', 'sag'], # алгоритм оптимизации\n",
    "               'C': [0.01, 0.1, 0.3, 0.7, 1]}, # уровень силы регурялизации\n",
    "              \n",
    "              {'penalty': ['l1', 'l2'] ,\n",
    "              'solver': ['liblinear', 'saga'],\n",
    "               'C': [0.01, 0.1, 0.3, 0.7, 1]}\n",
    "]\n",
    "            \n",
    "random_search = RandomizedSearchCV(\n",
    "    estimator=linear_model.LogisticRegression(random_state=42, max_iter=1000), \n",
    "    param_distributions = param_grid, \n",
    "    cv=5, \n",
    "    n_iter = 25, \n",
    "    n_jobs = -1\n",
    ")  \n",
    " \n",
    " \n",
    "%time random_search.fit(X_train, y_train) \n",
    "\n",
    "y_train_pred = random_search.predict(X_train)\n",
    "print('f1_score на обучающем наборе: {:.2f}'.format(metrics.f1_score(y_train, y_train_pred)))\n",
    "\n",
    "y_test_pred = random_search.predict(X_test)\n",
    "print('f1_score на тестовом наборе: {:.2f}'.format(metrics.f1_score(y_test, y_test_pred)))\n",
    "\n",
    "print(\"Наилучшие значения гиперпараметров: {}\".format(random_search.best_params_))"
   ]
  },
  {
   "cell_type": "markdown",
   "id": "ac43c25b",
   "metadata": {},
   "source": [
    "Случайный лес"
   ]
  },
  {
   "cell_type": "code",
   "execution_count": 12,
   "id": "2b1f21f6",
   "metadata": {},
   "outputs": [
    {
     "name": "stdout",
     "output_type": "stream",
     "text": [
      "Wall time: 1min 46s\n",
      "f1_score на обучающем наборе: 0.98\n",
      "f1_score на тестовом наборе: 0.79\n",
      "Наилучшие значения гиперпараметров: {'n_estimators': 200, 'min_samples_leaf': 3, 'max_depth': 18, 'criterion': 'entropy'}\n"
     ]
    }
   ],
   "source": [
    "param_grid = {'n_estimators': [100, 200, 300],\n",
    "              'min_samples_leaf': [3, 4, 5, 6, 7],\n",
    "              'max_depth': list(np.linspace(15, 25, 11, dtype=int)),\n",
    "              'criterion':['entropy','gini']\n",
    "              }\n",
    "            \n",
    "random_search_forest = RandomizedSearchCV(\n",
    "    estimator=ensemble.RandomForestClassifier(random_state=42), \n",
    "    param_distributions = param_grid, \n",
    "    cv=5,\n",
    "    n_iter = 25, \n",
    "    n_jobs = -1\n",
    ")  \n",
    "%time random_search_forest.fit(X_train, y_train) \n",
    "\n",
    "y_train_pred = random_search_forest.predict(X_train)\n",
    "print('f1_score на обучающем наборе: {:.2f}'.format(metrics.f1_score(y_train, y_train_pred)))\n",
    "\n",
    "y_test_pred = random_search.predict(X_test)\n",
    "print('f1_score на тестовом наборе: {:.2f}'.format(metrics.f1_score(y_test, y_test_pred)))\n",
    "\n",
    "print(\"Наилучшие значения гиперпараметров: {}\".format(random_search_forest.best_params_))"
   ]
  },
  {
   "cell_type": "markdown",
   "id": "717d88e0",
   "metadata": {},
   "source": [
    "# Hyperopt"
   ]
  },
  {
   "cell_type": "markdown",
   "id": "af68d8b0",
   "metadata": {},
   "source": [
    "Логистическая регрессия"
   ]
  },
  {
   "cell_type": "code",
   "execution_count": 13,
   "id": "9721f36a",
   "metadata": {},
   "outputs": [],
   "source": [
    "space_1 = {'penalty': hp.choice('penalty', ['l1', 'l2']),\n",
    "       'solver' : hp.choice('solver', ['liblinear', 'saga']),\n",
    "       'C': hp.uniform('C', 0.01, 1)\n",
    "      }"
   ]
  },
  {
   "cell_type": "code",
   "execution_count": 14,
   "id": "3e47d484",
   "metadata": {},
   "outputs": [],
   "source": [
    "space_2 = {'penalty': hp.choice('penalty', ['l2', 'none']),\n",
    "       'solver' : hp.choice('solver', ['lbfgs', 'sag']),\n",
    "       'C': hp.uniform('C', 0.01, 1)\n",
    "      }"
   ]
  },
  {
   "cell_type": "code",
   "execution_count": 15,
   "id": "8f0e8cf6",
   "metadata": {},
   "outputs": [],
   "source": [
    "random_state = 42\n",
    "def hyperopt_log_reg(params, cv=5, X=X_train, y=y_train, random_state=random_state):\n",
    "    # функция получает комбинацию гиперпараметров в \"params\"\n",
    "    params = {'penalty': params['penalty'],\n",
    "              'solver' :  params['solver'],\n",
    "              'C': params['C']\n",
    "              }\n",
    "  \n",
    "    # используем эту комбинацию для построения модели\n",
    "    model = linear_model.LogisticRegression(**params, random_state=random_state, max_iter=1000)\n",
    "\n",
    "    # обучаем модель\n",
    "    model.fit(X, y)\n",
    "    score = metrics.f1_score(y, model.predict(X))\n",
    "\n",
    "    return -score"
   ]
  },
  {
   "cell_type": "code",
   "execution_count": 16,
   "id": "522b578d",
   "metadata": {},
   "outputs": [
    {
     "name": "stdout",
     "output_type": "stream",
     "text": [
      "100%|███████████████████████████████████████████████| 20/20 [05:03<00:00, 15.19s/trial, best loss: -0.8825688073394496]\n",
      "Наилучшие значения гиперпараметров {'C': 0.9195352964526831, 'penalty': 1, 'solver': 0}\n",
      "Wall time: 5min 3s\n"
     ]
    }
   ],
   "source": [
    "%%time\n",
    "# первый набор параметров\n",
    "trials = Trials() # используется для логирования результатов\n",
    "\n",
    "best=fmin(hyperopt_log_reg, # наша функция \n",
    "          space=space_1, # пространство гиперпараметров\n",
    "          algo=tpe.suggest, # алгоритм оптимизации, установлен по умолчанию, задавать необязательно\n",
    "          max_evals=20, # максимальное количество итераций\n",
    "          trials=trials, # логирование результатов\n",
    "          rstate=np.random.RandomState(random_state)# фиксируем для повторяемости результата\n",
    "         )\n",
    "print(\"Наилучшие значения гиперпараметров {}\".format(best))"
   ]
  },
  {
   "cell_type": "code",
   "execution_count": 17,
   "id": "c06e20df",
   "metadata": {},
   "outputs": [
    {
     "name": "stdout",
     "output_type": "stream",
     "text": [
      "f1_score на обучающем наборе: 0.88\n",
      "f1_score на тестовом наборе: 0.78\n"
     ]
    }
   ],
   "source": [
    "model = linear_model.LogisticRegression(\n",
    "    random_state=random_state, \n",
    "    max_iter = 1000,\n",
    "    penalty = 'l2',\n",
    "    solver = 'liblinear',\n",
    "    C = best['C']\n",
    ")\n",
    "model.fit(X_train, y_train)\n",
    "\n",
    "y_train_pred = model.predict(X_train)\n",
    "print('f1_score на обучающем наборе: {:.2f}'.format(metrics.f1_score(y_train, y_train_pred)))\n",
    "\n",
    "y_test_pred = model.predict(X_test)\n",
    "print('f1_score на тестовом наборе: {:.2f}'.format(metrics.f1_score(y_test, y_test_pred)))"
   ]
  },
  {
   "cell_type": "code",
   "execution_count": 18,
   "id": "4dbed4b7",
   "metadata": {},
   "outputs": [
    {
     "name": "stdout",
     "output_type": "stream",
     "text": [
      "100%|███████████████████████████████████████████████| 20/20 [04:31<00:00, 13.57s/trial, best loss: -0.9935563056152193]\n",
      "Наилучшие значения гиперпараметров {'C': 0.7304484857455518, 'penalty': 1, 'solver': 0}\n",
      "Wall time: 4min 31s\n"
     ]
    }
   ],
   "source": [
    "%%time\n",
    "# второй набор параметров\n",
    "trials = Trials() # используется для логирования результатов\n",
    "\n",
    "best=fmin(hyperopt_log_reg, # наша функция \n",
    "          space=space_2, # пространство гиперпараметров\n",
    "          algo=tpe.suggest, # алгоритм оптимизации, установлен по умолчанию, задавать необязательно\n",
    "          max_evals=20, # максимальное количество итераций\n",
    "          trials=trials, # логирование результатов\n",
    "          rstate=np.random.RandomState(random_state)# фиксируем для повторяемости результата\n",
    "         )\n",
    "print(\"Наилучшие значения гиперпараметров {}\".format(best))"
   ]
  },
  {
   "cell_type": "code",
   "execution_count": 19,
   "id": "a883f281",
   "metadata": {},
   "outputs": [
    {
     "name": "stdout",
     "output_type": "stream",
     "text": [
      "f1_score на обучающем наборе: 0.99\n",
      "f1_score на тестовом наборе: 0.72\n"
     ]
    }
   ],
   "source": [
    "model = linear_model.LogisticRegression(\n",
    "    random_state=random_state, \n",
    "    max_iter = 1000,\n",
    "    penalty = 'none',\n",
    "    solver = 'lbfgs',\n",
    "    C = best['C']\n",
    ")\n",
    "model.fit(X_train, y_train)\n",
    "\n",
    "y_train_pred = model.predict(X_train)\n",
    "print('f1_score на обучающем наборе: {:.2f}'.format(metrics.f1_score(y_train, y_train_pred)))\n",
    "\n",
    "y_test_pred = model.predict(X_test)\n",
    "print('f1_score на тестовом наборе: {:.2f}'.format(metrics.f1_score(y_test, y_test_pred)))"
   ]
  },
  {
   "cell_type": "markdown",
   "id": "113a0991",
   "metadata": {},
   "source": [
    "Добавляем кросс-валидацию к лучшему варианту"
   ]
  },
  {
   "cell_type": "code",
   "execution_count": 20,
   "id": "cc44383e",
   "metadata": {},
   "outputs": [],
   "source": [
    "def hyperopt_log_reg(params, cv=10, X=X_train, y=y_train, random_state=random_state):\n",
    "    # функция получает комбинацию гиперпараметров в \"params\"\n",
    "    params = {'penalty': params['penalty'],\n",
    "              'solver' :  params['solver'],\n",
    "              'C': params['C']\n",
    "              }\n",
    "  \n",
    "    # используем эту комбинацию для построения модели\n",
    "    model = linear_model.LogisticRegression(**params, random_state=random_state, max_iter=1000)\n",
    "\n",
    "    # обучаем модель\n",
    "    model.fit(X, y)\n",
    "    #score = metrics.f1_score(y, model.predict(X))\n",
    "    \n",
    "    # применим  cross validation с тем же количеством фолдов\n",
    "    score = cross_val_score(model, X, y, cv=cv, scoring=\"f1\", n_jobs=-1).mean()\n",
    "\n",
    "    # метрику необходимо минимизировать, поэтому ставим знак минус\n",
    "    return -score"
   ]
  },
  {
   "cell_type": "code",
   "execution_count": 21,
   "id": "d15e4d07",
   "metadata": {},
   "outputs": [
    {
     "name": "stdout",
     "output_type": "stream",
     "text": [
      "100%|███████████████████████████████████████████████| 20/20 [26:06<00:00, 78.34s/trial, best loss: -0.7858740304909678]\n",
      "Наилучшие значения гиперпараметров {'C': 0.023051205281475296, 'penalty': 1, 'solver': 0}\n",
      "Wall time: 26min 6s\n"
     ]
    }
   ],
   "source": [
    "%%time\n",
    "\n",
    "trials = Trials() # используется для логирования результатов\n",
    "\n",
    "best=fmin(hyperopt_log_reg, # наша функция \n",
    "          space=space_1, # пространство гиперпараметров\n",
    "          algo=tpe.suggest, # алгоритм оптимизации, установлен по умолчанию, задавать необязательно\n",
    "          max_evals=20, # максимальное количество итераций\n",
    "          trials=trials, # логирование результатов\n",
    "          rstate=np.random.RandomState(random_state)# фиксируем для повторяемости результата\n",
    "         )\n",
    "print(\"Наилучшие значения гиперпараметров {}\".format(best))"
   ]
  },
  {
   "cell_type": "code",
   "execution_count": 22,
   "id": "6cc0f7ae",
   "metadata": {},
   "outputs": [
    {
     "name": "stdout",
     "output_type": "stream",
     "text": [
      "f1_score на обучающем наборе: 0.83\n",
      "f1_score на тестовом наборе: 0.79\n"
     ]
    }
   ],
   "source": [
    "model = linear_model.LogisticRegression(\n",
    "    random_state=random_state, \n",
    "    max_iter = 1000,\n",
    "    penalty = 'l2',\n",
    "    solver = 'liblinear',\n",
    "    C = best['C']\n",
    ")\n",
    "model.fit(X_train, y_train)\n",
    "\n",
    "y_train_pred = model.predict(X_train)\n",
    "print('f1_score на обучающем наборе: {:.2f}'.format(metrics.f1_score(y_train, y_train_pred)))\n",
    "\n",
    "y_test_pred = model.predict(X_test)\n",
    "print('f1_score на тестовом наборе: {:.2f}'.format(metrics.f1_score(y_test, y_test_pred)))"
   ]
  },
  {
   "cell_type": "markdown",
   "id": "2cfb5a8d",
   "metadata": {},
   "source": [
    "Случайный лес"
   ]
  },
  {
   "cell_type": "code",
   "execution_count": 23,
   "id": "965c5834",
   "metadata": {},
   "outputs": [],
   "source": [
    "space={'n_estimators': hp.quniform('n_estimators', 100, 300, 10),\n",
    "       'max_depth' : hp.quniform('max_depth', 15, 26, 1),\n",
    "       'min_samples_leaf': hp.quniform('min_samples_leaf', 2, 9, 1),\n",
    "       'criterion' : hp.choice('criterion', ['entropy','gini'])\n",
    "      }"
   ]
  },
  {
   "cell_type": "code",
   "execution_count": 24,
   "id": "f2000a53",
   "metadata": {},
   "outputs": [],
   "source": [
    "def hyperopt_rf(params, cv=5, X=X_train, y=y_train, random_state=random_state):\n",
    "    # функция получает комбинацию гиперпараметров в \"params\"\n",
    "    params = {'n_estimators': int(params['n_estimators']), \n",
    "              'max_depth': int(params['max_depth']), \n",
    "              'min_samples_leaf': int(params['min_samples_leaf']),\n",
    "              'criterion': params['criterion']\n",
    "              }\n",
    "  \n",
    "    # используем эту комбинацию для построения модели\n",
    "    model = ensemble.RandomForestClassifier(**params, random_state=random_state)\n",
    "\n",
    "    # обучаем модель\n",
    "    model.fit(X, y)\n",
    "    score = metrics.f1_score(y, model.predict(X))\n",
    "    \n",
    "    # метрику необходимо минимизировать, поэтому ставим знак минус\n",
    "    return -score"
   ]
  },
  {
   "cell_type": "code",
   "execution_count": 25,
   "id": "ae07322a",
   "metadata": {},
   "outputs": [
    {
     "name": "stdout",
     "output_type": "stream",
     "text": [
      "100%|███████████████████████████████████████████████| 20/20 [01:00<00:00,  3.01s/trial, best loss: -0.9935563056152193]\n",
      "Наилучшие значения гиперпараметров {'criterion': 0, 'max_depth': 24.0, 'min_samples_leaf': 2.0, 'n_estimators': 210.0}\n",
      "Wall time: 1min\n"
     ]
    }
   ],
   "source": [
    "%%time\n",
    "\n",
    "trials = Trials() # используется для логирования результатов\n",
    "\n",
    "best=fmin(hyperopt_rf, # наша функция \n",
    "          space=space, # пространство гиперпараметров\n",
    "          algo=tpe.suggest, # алгоритм оптимизации, установлен по умолчанию, задавать необязательно\n",
    "          max_evals=20, # максимальное количество итераций\n",
    "          trials=trials, # логирование результатов\n",
    "          rstate=np.random.RandomState(random_state)# фиксируем для повторяемости результата\n",
    "         )\n",
    "print(\"Наилучшие значения гиперпараметров {}\".format(best))"
   ]
  },
  {
   "cell_type": "code",
   "execution_count": 26,
   "id": "ec79ceab",
   "metadata": {},
   "outputs": [
    {
     "name": "stdout",
     "output_type": "stream",
     "text": [
      "f1_score на обучающем наборе: 0.99\n",
      "f1_score на тестовом наборе: 0.83\n"
     ]
    }
   ],
   "source": [
    "model = ensemble.RandomForestClassifier(\n",
    "    random_state=random_state, \n",
    "    n_estimators=int(best['n_estimators']),\n",
    "    max_depth=int(best['max_depth']),\n",
    "    min_samples_leaf=int(best['min_samples_leaf']),\n",
    "    criterion = 'entropy'\n",
    ")\n",
    "model.fit(X_train, y_train)\n",
    "\n",
    "y_train_pred = model.predict(X_train)\n",
    "print('f1_score на обучающем наборе: {:.2f}'.format(metrics.f1_score(y_train, y_train_pred)))\n",
    "\n",
    "y_test_pred = model.predict(X_test)\n",
    "print('f1_score на тестовом наборе: {:.2f}'.format(metrics.f1_score(y_test, y_test_pred)))"
   ]
  },
  {
   "cell_type": "markdown",
   "id": "127eacdc",
   "metadata": {},
   "source": [
    "Добавляем кросс-валидацию"
   ]
  },
  {
   "cell_type": "code",
   "execution_count": 27,
   "id": "550b413d",
   "metadata": {},
   "outputs": [],
   "source": [
    "def hyperopt_rf(params, cv=10, X=X_train, y=y_train, random_state=random_state):\n",
    "    # функция получает комбинацию гиперпараметров в \"params\"\n",
    "    params = {'n_estimators': int(params['n_estimators']), \n",
    "              'max_depth': int(params['max_depth']), \n",
    "              'min_samples_leaf': int(params['min_samples_leaf']),\n",
    "              'criterion': params['criterion']\n",
    "              }\n",
    "  \n",
    "    # используем эту комбинацию для построения модели\n",
    "    model = ensemble.RandomForestClassifier(**params, random_state=random_state)\n",
    "\n",
    "    # обучаем модель\n",
    "    model.fit(X, y)\n",
    "    \n",
    "    # применим  cross validation с тем же количеством фолдов\n",
    "    score = cross_val_score(model, X, y, cv=cv, scoring=\"f1\", n_jobs=-1).mean()\n",
    "  \n",
    "    return -score"
   ]
  },
  {
   "cell_type": "code",
   "execution_count": 28,
   "id": "baf7bb96",
   "metadata": {},
   "outputs": [
    {
     "name": "stdout",
     "output_type": "stream",
     "text": [
      "100%|███████████████████████████████████████████████| 20/20 [04:12<00:00, 12.60s/trial, best loss: -0.8123338868477779]\n",
      "Наилучшие значения гиперпараметров {'criterion': 0, 'max_depth': 18.0, 'min_samples_leaf': 3.0, 'n_estimators': 200.0}\n",
      "Wall time: 4min 12s\n"
     ]
    }
   ],
   "source": [
    "%%time\n",
    "\n",
    "trials = Trials() # используется для логирования результатов\n",
    "\n",
    "best=fmin(hyperopt_rf, # наша функция \n",
    "          space=space, # пространство гиперпараметров\n",
    "          algo=tpe.suggest, # алгоритм оптимизации, установлен по умолчанию, задавать необязательно\n",
    "          max_evals=20, # максимальное количество итераций\n",
    "          trials=trials, # логирование результатов\n",
    "          rstate=np.random.RandomState(random_state)# фиксируем для повторяемости результата\n",
    "         )\n",
    "print(\"Наилучшие значения гиперпараметров {}\".format(best))"
   ]
  },
  {
   "cell_type": "code",
   "execution_count": 29,
   "id": "4e47edd4",
   "metadata": {},
   "outputs": [
    {
     "name": "stdout",
     "output_type": "stream",
     "text": [
      "f1_score на обучающем наборе: 0.98\n",
      "f1_score на тестовом наборе: 0.82\n"
     ]
    }
   ],
   "source": [
    "model = ensemble.RandomForestClassifier(\n",
    "    random_state=random_state, \n",
    "    n_estimators=int(best['n_estimators']),\n",
    "    max_depth=int(best['max_depth']),\n",
    "    min_samples_leaf=int(best['min_samples_leaf']),\n",
    "    criterion = 'entropy'\n",
    ")\n",
    "model.fit(X_train, y_train)\n",
    "\n",
    "y_train_pred = model.predict(X_train)\n",
    "print('f1_score на обучающем наборе: {:.2f}'.format(metrics.f1_score(y_train, y_train_pred)))\n",
    "\n",
    "y_test_pred = model.predict(X_test)\n",
    "print('f1_score на тестовом наборе: {:.2f}'.format(metrics.f1_score(y_test, y_test_pred)))"
   ]
  },
  {
   "cell_type": "markdown",
   "id": "33b19be7",
   "metadata": {},
   "source": [
    "# Optuna"
   ]
  },
  {
   "cell_type": "markdown",
   "id": "8bdf1491",
   "metadata": {},
   "source": [
    "Логистическая регрессия"
   ]
  },
  {
   "cell_type": "code",
   "execution_count": 30,
   "id": "8716d00a",
   "metadata": {},
   "outputs": [],
   "source": [
    "space_1 = {'penalty': hp.choice('penalty', ['l1', 'l2']),\n",
    "       'solver' : hp.choice('solver', ['liblinear', 'saga']),\n",
    "       'C': hp.uniform('C', 0.01, 1)\n",
    "      }\n",
    "space_2 = {'penalty': hp.choice('penalty', ['l2', 'none']),\n",
    "       'solver' : hp.choice('solver', ['lbfgs', 'sag']),\n",
    "       'C': hp.uniform('C', 0.01, 1)\n",
    "      }"
   ]
  },
  {
   "cell_type": "code",
   "execution_count": 31,
   "id": "8c2d4f79",
   "metadata": {},
   "outputs": [],
   "source": [
    "# первый набор параметров\n",
    "def optuna_log_reg(trial):\n",
    "  # задаем пространства поиска гиперпараметров\n",
    "    penalty = trial.suggest_categorical('penalty', ['l1', 'l2'])\n",
    "    solver = trial.suggest_categorical('solver', ['liblinear', 'saga'])\n",
    "    C = trial.suggest_uniform('C', 0.01, 1)\n",
    "\n",
    "    # создаем модель\n",
    "    model = linear_model.LogisticRegression(penalty = penalty,\n",
    "                                          solver = solver,\n",
    "                                          C = C,\n",
    "                                          random_state=random_state,\n",
    "                                          max_iter = 1000)\n",
    "    # обучаем модель\n",
    "    model.fit(X_train, y_train)\n",
    "    score = metrics.f1_score(y_train, model.predict(X_train))\n",
    "\n",
    "    return score"
   ]
  },
  {
   "cell_type": "code",
   "execution_count": 32,
   "id": "92a558ac",
   "metadata": {},
   "outputs": [
    {
     "name": "stderr",
     "output_type": "stream",
     "text": [
      "\u001b[32m[I 2022-06-15 21:51:17,619]\u001b[0m A new study created in memory with name: LogisticRegression\u001b[0m\n",
      "\u001b[32m[I 2022-06-15 21:51:18,196]\u001b[0m Trial 0 finished with value: 0.8651616839536302 and parameters: {'penalty': 'l2', 'solver': 'liblinear', 'C': 0.23693473046035649}. Best is trial 0 with value: 0.8651616839536302.\u001b[0m\n",
      "\u001b[32m[I 2022-06-15 21:51:18,645]\u001b[0m Trial 1 finished with value: 0.8541856925418571 and parameters: {'penalty': 'l1', 'solver': 'liblinear', 'C': 0.6097584376577737}. Best is trial 0 with value: 0.8651616839536302.\u001b[0m\n",
      "\u001b[32m[I 2022-06-15 21:52:22,475]\u001b[0m Trial 2 finished with value: 0.8600182982616652 and parameters: {'penalty': 'l1', 'solver': 'saga', 'C': 0.7694168696932184}. Best is trial 0 with value: 0.8651616839536302.\u001b[0m\n",
      "\u001b[32m[I 2022-06-15 21:52:42,045]\u001b[0m Trial 3 finished with value: 0.8711355984083258 and parameters: {'penalty': 'l2', 'solver': 'saga', 'C': 0.4169692400149647}. Best is trial 3 with value: 0.8711355984083258.\u001b[0m\n",
      "\u001b[32m[I 2022-06-15 21:52:42,315]\u001b[0m Trial 4 finished with value: 0.8255884127942064 and parameters: {'penalty': 'l1', 'solver': 'liblinear', 'C': 0.27499880444667796}. Best is trial 3 with value: 0.8711355984083258.\u001b[0m\n",
      "\u001b[32m[I 2022-06-15 21:53:45,258]\u001b[0m Trial 5 finished with value: 0.8605431797375648 and parameters: {'penalty': 'l1', 'solver': 'saga', 'C': 0.744195060280266}. Best is trial 3 with value: 0.8711355984083258.\u001b[0m\n",
      "\u001b[32m[I 2022-06-15 21:54:05,446]\u001b[0m Trial 6 finished with value: 0.8580998781973203 and parameters: {'penalty': 'l2', 'solver': 'saga', 'C': 0.1551224145919232}. Best is trial 3 with value: 0.8711355984083258.\u001b[0m\n",
      "\u001b[32m[I 2022-06-15 21:54:05,887]\u001b[0m Trial 7 finished with value: 0.8527084601339014 and parameters: {'penalty': 'l1', 'solver': 'liblinear', 'C': 0.5812427323908201}. Best is trial 3 with value: 0.8711355984083258.\u001b[0m\n",
      "\u001b[32m[I 2022-06-15 21:54:06,456]\u001b[0m Trial 8 finished with value: 0.8634146341463416 and parameters: {'penalty': 'l2', 'solver': 'liblinear', 'C': 0.2035805903992013}. Best is trial 3 with value: 0.8711355984083258.\u001b[0m\n",
      "\u001b[32m[I 2022-06-15 21:54:06,875]\u001b[0m Trial 9 finished with value: 0.8535768645357686 and parameters: {'penalty': 'l1', 'solver': 'liblinear', 'C': 0.603272881796747}. Best is trial 3 with value: 0.8711355984083258.\u001b[0m\n",
      "\u001b[32m[I 2022-06-15 21:54:40,845]\u001b[0m Trial 10 finished with value: 0.8831804281345567 and parameters: {'penalty': 'l2', 'solver': 'saga', 'C': 0.950772272097954}. Best is trial 10 with value: 0.8831804281345567.\u001b[0m\n",
      "\u001b[32m[I 2022-06-15 21:55:15,450]\u001b[0m Trial 11 finished with value: 0.8844743276283618 and parameters: {'penalty': 'l2', 'solver': 'saga', 'C': 0.9890081876584274}. Best is trial 11 with value: 0.8844743276283618.\u001b[0m\n",
      "\u001b[32m[I 2022-06-15 21:55:49,543]\u001b[0m Trial 12 finished with value: 0.8831804281345567 and parameters: {'penalty': 'l2', 'solver': 'saga', 'C': 0.9585409636174356}. Best is trial 11 with value: 0.8844743276283618.\u001b[0m\n",
      "\u001b[32m[I 2022-06-15 21:56:24,645]\u001b[0m Trial 13 finished with value: 0.8844743276283618 and parameters: {'penalty': 'l2', 'solver': 'saga', 'C': 0.9871340478549533}. Best is trial 11 with value: 0.8844743276283618.\u001b[0m\n",
      "\u001b[32m[I 2022-06-15 21:56:33,370]\u001b[0m Trial 14 finished with value: 0.8191904047976011 and parameters: {'penalty': 'l2', 'solver': 'saga', 'C': 0.01073018904360501}. Best is trial 11 with value: 0.8844743276283618.\u001b[0m\n",
      "\u001b[32m[I 2022-06-15 21:57:04,139]\u001b[0m Trial 15 finished with value: 0.8810033649434078 and parameters: {'penalty': 'l2', 'solver': 'saga', 'C': 0.822108304663612}. Best is trial 11 with value: 0.8844743276283618.\u001b[0m\n",
      "\u001b[32m[I 2022-06-15 21:57:39,073]\u001b[0m Trial 16 finished with value: 0.8844743276283618 and parameters: {'penalty': 'l2', 'solver': 'saga', 'C': 0.9963514805676742}. Best is trial 11 with value: 0.8844743276283618.\u001b[0m\n",
      "\u001b[32m[I 2022-06-15 21:58:11,196]\u001b[0m Trial 17 finished with value: 0.88168755732192 and parameters: {'penalty': 'l2', 'solver': 'saga', 'C': 0.8652785512739573}. Best is trial 11 with value: 0.8844743276283618.\u001b[0m\n",
      "\u001b[32m[I 2022-06-15 21:58:30,562]\u001b[0m Trial 18 finished with value: 0.87174778083869 and parameters: {'penalty': 'l2', 'solver': 'saga', 'C': 0.42904225064967605}. Best is trial 11 with value: 0.8844743276283618.\u001b[0m\n",
      "\u001b[32m[I 2022-06-15 21:59:02,407]\u001b[0m Trial 19 finished with value: 0.8820293398533007 and parameters: {'penalty': 'l2', 'solver': 'saga', 'C': 0.8859580370873713}. Best is trial 11 with value: 0.8844743276283618.\u001b[0m\n"
     ]
    },
    {
     "name": "stdout",
     "output_type": "stream",
     "text": [
      "Наилучшие значения гиперпараметров {'penalty': 'l2', 'solver': 'saga', 'C': 0.9890081876584274}\n",
      "Wall time: 7min 44s\n"
     ]
    }
   ],
   "source": [
    "%%time\n",
    "# cоздаем объект исследования\n",
    "study = optuna.create_study(study_name=\"LogisticRegression\", direction=\"maximize\")\n",
    "# ищем лучшую комбинацию гиперпараметров n_trials раз\n",
    "study.optimize(optuna_log_reg, n_trials=20)\n",
    "\n",
    "print(\"Наилучшие значения гиперпараметров {}\".format(study.best_params))"
   ]
  },
  {
   "cell_type": "code",
   "execution_count": 33,
   "id": "18e6187e",
   "metadata": {},
   "outputs": [
    {
     "name": "stdout",
     "output_type": "stream",
     "text": [
      "f1_score на обучающем наборе: 0.88\n",
      "f1_score на тестовом наборе: 0.78\n"
     ]
    }
   ],
   "source": [
    "model = linear_model.LogisticRegression(\n",
    "    **study.best_params,\n",
    "    random_state=random_state, \n",
    "    max_iter = 1000,\n",
    "   )\n",
    "model.fit(X_train, y_train)\n",
    "\n",
    "y_train_pred = model.predict(X_train)\n",
    "print('f1_score на обучающем наборе: {:.2f}'.format(metrics.f1_score(y_train, y_train_pred)))\n",
    "\n",
    "y_test_pred = model.predict(X_test)\n",
    "print('f1_score на тестовом наборе: {:.2f}'.format(metrics.f1_score(y_test, y_test_pred)))"
   ]
  },
  {
   "cell_type": "code",
   "execution_count": 34,
   "id": "7b834fbb",
   "metadata": {},
   "outputs": [],
   "source": [
    "# второй набор параметров\n",
    "def optuna_log_reg(trial):\n",
    "  # задаем пространства поиска гиперпараметров\n",
    "    penalty = trial.suggest_categorical('penalty', ['l2', 'none'])\n",
    "    solver = trial.suggest_categorical('solver', ['lbfgs', 'sag'])\n",
    "    C = trial.suggest_uniform('C', 0.01, 1)\n",
    "\n",
    "    # создаем модель\n",
    "    model = linear_model.LogisticRegression(penalty = penalty,\n",
    "                                          solver = solver,\n",
    "                                          C = C,\n",
    "                                          random_state=random_state,\n",
    "                                          max_iter = 1000)\n",
    "    # обучаем модель\n",
    "    model.fit(X_train, y_train)\n",
    "    score = metrics.f1_score(y_train, model.predict(X_train))\n",
    "\n",
    "    return score"
   ]
  },
  {
   "cell_type": "code",
   "execution_count": 35,
   "id": "94edca2b",
   "metadata": {},
   "outputs": [
    {
     "name": "stderr",
     "output_type": "stream",
     "text": [
      "\u001b[32m[I 2022-06-15 21:59:35,477]\u001b[0m A new study created in memory with name: LogisticRegression\u001b[0m\n",
      "\u001b[32m[I 2022-06-15 21:59:39,922]\u001b[0m Trial 0 finished with value: 0.9935563056152193 and parameters: {'penalty': 'none', 'solver': 'lbfgs', 'C': 0.3471778057488027}. Best is trial 0 with value: 0.9935563056152193.\u001b[0m\n",
      "\u001b[32m[I 2022-06-15 21:59:41,727]\u001b[0m Trial 1 finished with value: 0.8816151728357297 and parameters: {'penalty': 'l2', 'solver': 'lbfgs', 'C': 0.858304457050198}. Best is trial 0 with value: 0.9935563056152193.\u001b[0m\n",
      "\u001b[32m[I 2022-06-15 22:00:25,660]\u001b[0m Trial 2 finished with value: 0.925993883792049 and parameters: {'penalty': 'none', 'solver': 'sag', 'C': 0.8787821355230475}. Best is trial 0 with value: 0.9935563056152193.\u001b[0m\n",
      "\u001b[32m[I 2022-06-15 22:00:30,100]\u001b[0m Trial 3 finished with value: 0.9935563056152193 and parameters: {'penalty': 'none', 'solver': 'lbfgs', 'C': 0.49948141608156066}. Best is trial 0 with value: 0.9935563056152193.\u001b[0m\n",
      "\u001b[32m[I 2022-06-15 22:01:13,833]\u001b[0m Trial 4 finished with value: 0.925993883792049 and parameters: {'penalty': 'none', 'solver': 'sag', 'C': 0.3713988707756743}. Best is trial 0 with value: 0.9935563056152193.\u001b[0m\n",
      "\u001b[32m[I 2022-06-15 22:01:57,292]\u001b[0m Trial 5 finished with value: 0.925993883792049 and parameters: {'penalty': 'none', 'solver': 'sag', 'C': 0.7463272201541833}. Best is trial 0 with value: 0.9935563056152193.\u001b[0m\n",
      "\u001b[32m[I 2022-06-15 22:01:59,209]\u001b[0m Trial 6 finished with value: 0.8838630806845965 and parameters: {'penalty': 'l2', 'solver': 'lbfgs', 'C': 0.9747822495601134}. Best is trial 0 with value: 0.9935563056152193.\u001b[0m\n",
      "\u001b[32m[I 2022-06-15 22:02:43,352]\u001b[0m Trial 7 finished with value: 0.925993883792049 and parameters: {'penalty': 'none', 'solver': 'sag', 'C': 0.6776588191246957}. Best is trial 0 with value: 0.9935563056152193.\u001b[0m\n",
      "\u001b[32m[I 2022-06-15 22:03:26,887]\u001b[0m Trial 8 finished with value: 0.925993883792049 and parameters: {'penalty': 'none', 'solver': 'sag', 'C': 0.44511689340240135}. Best is trial 0 with value: 0.9935563056152193.\u001b[0m\n",
      "\u001b[32m[I 2022-06-15 22:03:28,635]\u001b[0m Trial 9 finished with value: 0.8807339449541284 and parameters: {'penalty': 'l2', 'solver': 'lbfgs', 'C': 0.790040791142158}. Best is trial 0 with value: 0.9935563056152193.\u001b[0m\n",
      "\u001b[32m[I 2022-06-15 22:03:33,018]\u001b[0m Trial 10 finished with value: 0.9935563056152193 and parameters: {'penalty': 'none', 'solver': 'lbfgs', 'C': 0.026770130246155655}. Best is trial 0 with value: 0.9935563056152193.\u001b[0m\n",
      "\u001b[32m[I 2022-06-15 22:03:37,431]\u001b[0m Trial 11 finished with value: 0.9935563056152193 and parameters: {'penalty': 'none', 'solver': 'lbfgs', 'C': 0.27722390351236786}. Best is trial 0 with value: 0.9935563056152193.\u001b[0m\n",
      "\u001b[32m[I 2022-06-15 22:03:41,890]\u001b[0m Trial 12 finished with value: 0.9935563056152193 and parameters: {'penalty': 'none', 'solver': 'lbfgs', 'C': 0.586644172356979}. Best is trial 0 with value: 0.9935563056152193.\u001b[0m\n",
      "\u001b[32m[I 2022-06-15 22:03:46,252]\u001b[0m Trial 13 finished with value: 0.9935563056152193 and parameters: {'penalty': 'none', 'solver': 'lbfgs', 'C': 0.22060953788406976}. Best is trial 0 with value: 0.9935563056152193.\u001b[0m\n",
      "\u001b[32m[I 2022-06-15 22:03:47,815]\u001b[0m Trial 14 finished with value: 0.8735843281297827 and parameters: {'penalty': 'l2', 'solver': 'lbfgs', 'C': 0.5487183474172024}. Best is trial 0 with value: 0.9935563056152193.\u001b[0m\n",
      "\u001b[32m[I 2022-06-15 22:03:52,221]\u001b[0m Trial 15 finished with value: 0.9935563056152193 and parameters: {'penalty': 'none', 'solver': 'lbfgs', 'C': 0.11917421362406638}. Best is trial 0 with value: 0.9935563056152193.\u001b[0m\n",
      "\u001b[32m[I 2022-06-15 22:03:56,817]\u001b[0m Trial 16 finished with value: 0.9935563056152193 and parameters: {'penalty': 'none', 'solver': 'lbfgs', 'C': 0.35807406867521707}. Best is trial 0 with value: 0.9935563056152193.\u001b[0m\n",
      "\u001b[32m[I 2022-06-15 22:04:01,408]\u001b[0m Trial 17 finished with value: 0.9935563056152193 and parameters: {'penalty': 'none', 'solver': 'lbfgs', 'C': 0.22989640031163633}. Best is trial 0 with value: 0.9935563056152193.\u001b[0m\n",
      "\u001b[32m[I 2022-06-15 22:04:02,103]\u001b[0m Trial 18 finished with value: 0.8366052552099064 and parameters: {'penalty': 'l2', 'solver': 'lbfgs', 'C': 0.049398597701610036}. Best is trial 0 with value: 0.9935563056152193.\u001b[0m\n",
      "\u001b[32m[I 2022-06-15 22:04:06,621]\u001b[0m Trial 19 finished with value: 0.9935563056152193 and parameters: {'penalty': 'none', 'solver': 'lbfgs', 'C': 0.46516660072526217}. Best is trial 0 with value: 0.9935563056152193.\u001b[0m\n"
     ]
    },
    {
     "name": "stdout",
     "output_type": "stream",
     "text": [
      "Наилучшие значения гиперпараметров {'penalty': 'none', 'solver': 'lbfgs', 'C': 0.3471778057488027}\n",
      "Wall time: 4min 31s\n"
     ]
    }
   ],
   "source": [
    "%%time\n",
    "# cоздаем объект исследования\n",
    "study = optuna.create_study(study_name=\"LogisticRegression\", direction=\"maximize\")\n",
    "# ищем лучшую комбинацию гиперпараметров n_trials раз\n",
    "study.optimize(optuna_log_reg, n_trials=20)\n",
    "print(\"Наилучшие значения гиперпараметров {}\".format(study.best_params))"
   ]
  },
  {
   "cell_type": "code",
   "execution_count": 36,
   "id": "be1d1c7f",
   "metadata": {},
   "outputs": [
    {
     "name": "stdout",
     "output_type": "stream",
     "text": [
      "f1_score на обучающем наборе: 0.99\n",
      "f1_score на тестовом наборе: 0.72\n"
     ]
    }
   ],
   "source": [
    "model = linear_model.LogisticRegression(\n",
    "    **study.best_params,\n",
    "    random_state=random_state, \n",
    "    max_iter = 1000,\n",
    "   )\n",
    "model.fit(X_train, y_train)\n",
    "\n",
    "y_train_pred = model.predict(X_train)\n",
    "print('f1_score на обучающем наборе: {:.2f}'.format(metrics.f1_score(y_train, y_train_pred)))\n",
    "\n",
    "y_test_pred = model.predict(X_test)\n",
    "print('f1_score на тестовом наборе: {:.2f}'.format(metrics.f1_score(y_test, y_test_pred)))"
   ]
  },
  {
   "cell_type": "markdown",
   "id": "13b55ff4",
   "metadata": {},
   "source": [
    "Добавляем кросс-валидацию к лучшему варианту"
   ]
  },
  {
   "cell_type": "code",
   "execution_count": 37,
   "id": "733c662c",
   "metadata": {},
   "outputs": [],
   "source": [
    "def optuna_log_reg(trial):\n",
    "  # задаем пространства поиска гиперпараметров\n",
    "    penalty = trial.suggest_categorical('penalty', ['l1', 'l2'])\n",
    "    solver = trial.suggest_categorical('solver', ['liblinear', 'saga'])\n",
    "    C = trial.suggest_uniform('C', 0.01, 1)\n",
    "\n",
    "    # создаем модель\n",
    "    model = linear_model.LogisticRegression(penalty = penalty,\n",
    "                                          solver = solver,\n",
    "                                          C = C,\n",
    "                                          random_state=random_state,\n",
    "                                          max_iter = 1000)\n",
    "    # обучаем модель\n",
    "    model.fit(X_train, y_train)\n",
    "    score = cross_val_score(model, X, y, cv = 5, scoring=\"f1\", n_jobs=-1).mean()\n",
    "\n",
    "    return score"
   ]
  },
  {
   "cell_type": "code",
   "execution_count": 38,
   "id": "05a3d668",
   "metadata": {},
   "outputs": [
    {
     "name": "stderr",
     "output_type": "stream",
     "text": [
      "\u001b[32m[I 2022-06-15 22:04:11,196]\u001b[0m A new study created in memory with name: LogisticRegression\u001b[0m\n",
      "\u001b[32m[I 2022-06-15 22:04:16,007]\u001b[0m Trial 0 finished with value: 0.7787167932268604 and parameters: {'penalty': 'l2', 'solver': 'liblinear', 'C': 0.40801642461686727}. Best is trial 0 with value: 0.7787167932268604.\u001b[0m\n",
      "\u001b[32m[I 2022-06-15 22:04:19,482]\u001b[0m Trial 1 finished with value: 0.7778904868285228 and parameters: {'penalty': 'l2', 'solver': 'liblinear', 'C': 0.5297827906151193}. Best is trial 0 with value: 0.7787167932268604.\u001b[0m\n",
      "\u001b[32m[I 2022-06-15 22:08:48,532]\u001b[0m Trial 2 finished with value: 0.7811400841492298 and parameters: {'penalty': 'l1', 'solver': 'saga', 'C': 0.7332756078096175}. Best is trial 2 with value: 0.7811400841492298.\u001b[0m\n",
      "\u001b[32m[I 2022-06-15 22:09:43,139]\u001b[0m Trial 3 finished with value: 0.7765825334938941 and parameters: {'penalty': 'l1', 'solver': 'saga', 'C': 0.0762016983548719}. Best is trial 2 with value: 0.7811400841492298.\u001b[0m\n",
      "\u001b[32m[I 2022-06-15 22:11:35,684]\u001b[0m Trial 4 finished with value: 0.7792525567702718 and parameters: {'penalty': 'l2', 'solver': 'saga', 'C': 0.6582406925700593}. Best is trial 2 with value: 0.7811400841492298.\u001b[0m\n",
      "\u001b[32m[I 2022-06-15 22:13:46,750]\u001b[0m Trial 5 finished with value: 0.776077574277935 and parameters: {'penalty': 'l2', 'solver': 'saga', 'C': 0.826253065093119}. Best is trial 2 with value: 0.7811400841492298.\u001b[0m\n",
      "\u001b[32m[I 2022-06-15 22:13:49,374]\u001b[0m Trial 6 finished with value: 0.7796874432756002 and parameters: {'penalty': 'l1', 'solver': 'liblinear', 'C': 0.8590970171501268}. Best is trial 2 with value: 0.7811400841492298.\u001b[0m\n",
      "\u001b[32m[I 2022-06-15 22:13:51,349]\u001b[0m Trial 7 finished with value: 0.7780736077319192 and parameters: {'penalty': 'l2', 'solver': 'liblinear', 'C': 0.5385241159215954}. Best is trial 2 with value: 0.7811400841492298.\u001b[0m\n",
      "\u001b[32m[I 2022-06-15 22:13:53,356]\u001b[0m Trial 8 finished with value: 0.7793469024853099 and parameters: {'penalty': 'l2', 'solver': 'liblinear', 'C': 0.6016481814479747}. Best is trial 2 with value: 0.7811400841492298.\u001b[0m\n",
      "\u001b[32m[I 2022-06-15 22:14:56,905]\u001b[0m Trial 9 finished with value: 0.7826889037962756 and parameters: {'penalty': 'l1', 'solver': 'saga', 'C': 0.09807027193896721}. Best is trial 9 with value: 0.7826889037962756.\u001b[0m\n",
      "\u001b[32m[I 2022-06-15 22:15:02,461]\u001b[0m Trial 10 finished with value: 0.7522687790497345 and parameters: {'penalty': 'l1', 'solver': 'saga', 'C': 0.016817913527088335}. Best is trial 9 with value: 0.7826889037962756.\u001b[0m\n",
      "\u001b[32m[I 2022-06-15 22:18:01,889]\u001b[0m Trial 11 finished with value: 0.7864769498996997 and parameters: {'penalty': 'l1', 'solver': 'saga', 'C': 0.310748934581717}. Best is trial 11 with value: 0.7864769498996997.\u001b[0m\n",
      "\u001b[32m[I 2022-06-15 22:20:59,487]\u001b[0m Trial 12 finished with value: 0.787734791075058 and parameters: {'penalty': 'l1', 'solver': 'saga', 'C': 0.2671273675639286}. Best is trial 12 with value: 0.787734791075058.\u001b[0m\n",
      "\u001b[32m[I 2022-06-15 22:23:56,901]\u001b[0m Trial 13 finished with value: 0.7867717424857545 and parameters: {'penalty': 'l1', 'solver': 'saga', 'C': 0.30933862680499874}. Best is trial 12 with value: 0.787734791075058.\u001b[0m\n",
      "\u001b[32m[I 2022-06-15 22:26:49,063]\u001b[0m Trial 14 finished with value: 0.7883833075778484 and parameters: {'penalty': 'l1', 'solver': 'saga', 'C': 0.25688783409167026}. Best is trial 14 with value: 0.7883833075778484.\u001b[0m\n",
      "\u001b[32m[I 2022-06-15 22:29:14,770]\u001b[0m Trial 15 finished with value: 0.7893484101961794 and parameters: {'penalty': 'l1', 'solver': 'saga', 'C': 0.22231172765636362}. Best is trial 15 with value: 0.7893484101961794.\u001b[0m\n",
      "\u001b[32m[I 2022-06-15 22:30:58,337]\u001b[0m Trial 16 finished with value: 0.7882991153343057 and parameters: {'penalty': 'l1', 'solver': 'saga', 'C': 0.1856926630676311}. Best is trial 15 with value: 0.7893484101961794.\u001b[0m\n",
      "\u001b[32m[I 2022-06-15 22:34:00,469]\u001b[0m Trial 17 finished with value: 0.7864761919055873 and parameters: {'penalty': 'l1', 'solver': 'saga', 'C': 0.42935459070461723}. Best is trial 15 with value: 0.7893484101961794.\u001b[0m\n",
      "\u001b[32m[I 2022-06-15 22:35:55,312]\u001b[0m Trial 18 finished with value: 0.7882094824928325 and parameters: {'penalty': 'l1', 'solver': 'saga', 'C': 0.18995977262259917}. Best is trial 15 with value: 0.7893484101961794.\u001b[0m\n",
      "\u001b[32m[I 2022-06-15 22:39:00,234]\u001b[0m Trial 19 finished with value: 0.7861812761035557 and parameters: {'penalty': 'l1', 'solver': 'saga', 'C': 0.4354146997738815}. Best is trial 15 with value: 0.7893484101961794.\u001b[0m\n"
     ]
    },
    {
     "name": "stdout",
     "output_type": "stream",
     "text": [
      "Наилучшие значения гиперпараметров {'penalty': 'l1', 'solver': 'saga', 'C': 0.22231172765636362}\n",
      "Wall time: 34min 49s\n"
     ]
    }
   ],
   "source": [
    "%%time\n",
    "# cоздаем объект исследования\n",
    "study = optuna.create_study(study_name=\"LogisticRegression\", direction=\"maximize\")\n",
    "# ищем лучшую комбинацию гиперпараметров n_trials раз\n",
    "study.optimize(optuna_log_reg, n_trials=20)\n",
    "print(\"Наилучшие значения гиперпараметров {}\".format(study.best_params))"
   ]
  },
  {
   "cell_type": "code",
   "execution_count": 39,
   "id": "ed63bff8",
   "metadata": {},
   "outputs": [
    {
     "name": "stdout",
     "output_type": "stream",
     "text": [
      "f1_score на обучающем наборе: 0.82\n",
      "f1_score на тестовом наборе: 0.78\n"
     ]
    }
   ],
   "source": [
    "model = linear_model.LogisticRegression(\n",
    "    **study.best_params,\n",
    "    random_state=random_state, \n",
    "    max_iter = 1000,\n",
    "   )\n",
    "model.fit(X_train, y_train)\n",
    "\n",
    "y_train_pred = model.predict(X_train)\n",
    "print('f1_score на обучающем наборе: {:.2f}'.format(metrics.f1_score(y_train, y_train_pred)))\n",
    "\n",
    "y_test_pred = model.predict(X_test)\n",
    "print('f1_score на тестовом наборе: {:.2f}'.format(metrics.f1_score(y_test, y_test_pred)))"
   ]
  },
  {
   "cell_type": "markdown",
   "id": "5d9b18f7",
   "metadata": {},
   "source": [
    "Случайный лес"
   ]
  },
  {
   "cell_type": "code",
   "execution_count": 40,
   "id": "517a97c1",
   "metadata": {},
   "outputs": [],
   "source": [
    "def optuna_rf(trial):\n",
    "    # задаем пространства поиска гиперпараметров\n",
    "    n_estimators = trial.suggest_int('n_estimators',  100, 300, 10)\n",
    "    max_depth = trial.suggest_int('max_depth', 15, 26, 1)\n",
    "    min_samples_leaf = trial.suggest_int('min_samples_leaf', 2, 9, 1)\n",
    "    criterion = trial.suggest_categorical('criterion', ['entropy','gini'])\n",
    "\n",
    "    # создаем модель\n",
    "    model = ensemble.RandomForestClassifier(n_estimators = n_estimators,\n",
    "                                          max_depth = max_depth,\n",
    "                                          min_samples_leaf = min_samples_leaf,\n",
    "                                          criterion = criterion,\n",
    "                                          random_state = random_state)\n",
    "    # обучаем модель\n",
    "    model.fit(X_train, y_train)\n",
    "    score = metrics.f1_score(y_train, model.predict(X_train))\n",
    "\n",
    "    return score"
   ]
  },
  {
   "cell_type": "code",
   "execution_count": 41,
   "id": "af96c0e5",
   "metadata": {},
   "outputs": [
    {
     "name": "stderr",
     "output_type": "stream",
     "text": [
      "\u001b[32m[I 2022-06-15 22:39:39,347]\u001b[0m A new study created in memory with name: RandomForestClassifier\u001b[0m\n",
      "\u001b[32m[I 2022-06-15 22:39:43,264]\u001b[0m Trial 0 finished with value: 0.9605142332415059 and parameters: {'n_estimators': 270, 'max_depth': 15, 'min_samples_leaf': 4, 'criterion': 'entropy'}. Best is trial 0 with value: 0.9605142332415059.\u001b[0m\n",
      "\u001b[32m[I 2022-06-15 22:39:46,013]\u001b[0m Trial 1 finished with value: 0.988653787181846 and parameters: {'n_estimators': 170, 'max_depth': 16, 'min_samples_leaf': 2, 'criterion': 'entropy'}. Best is trial 1 with value: 0.988653787181846.\u001b[0m\n",
      "\u001b[32m[I 2022-06-15 22:39:49,314]\u001b[0m Trial 2 finished with value: 0.9557522123893805 and parameters: {'n_estimators': 250, 'max_depth': 20, 'min_samples_leaf': 4, 'criterion': 'gini'}. Best is trial 1 with value: 0.988653787181846.\u001b[0m\n",
      "\u001b[32m[I 2022-06-15 22:39:52,718]\u001b[0m Trial 3 finished with value: 0.9929382867669635 and parameters: {'n_estimators': 200, 'max_depth': 22, 'min_samples_leaf': 2, 'criterion': 'entropy'}. Best is trial 3 with value: 0.9929382867669635.\u001b[0m\n",
      "\u001b[32m[I 2022-06-15 22:39:53,942]\u001b[0m Trial 4 finished with value: 0.9147571035747022 and parameters: {'n_estimators': 100, 'max_depth': 21, 'min_samples_leaf': 8, 'criterion': 'gini'}. Best is trial 3 with value: 0.9929382867669635.\u001b[0m\n",
      "\u001b[32m[I 2022-06-15 22:39:57,820]\u001b[0m Trial 5 finished with value: 0.9587786259541984 and parameters: {'n_estimators': 290, 'max_depth': 24, 'min_samples_leaf': 4, 'criterion': 'gini'}. Best is trial 3 with value: 0.9929382867669635.\u001b[0m\n",
      "\u001b[32m[I 2022-06-15 22:40:01,336]\u001b[0m Trial 6 finished with value: 0.9313396399145559 and parameters: {'n_estimators': 260, 'max_depth': 22, 'min_samples_leaf': 7, 'criterion': 'entropy'}. Best is trial 3 with value: 0.9929382867669635.\u001b[0m\n",
      "\u001b[32m[I 2022-06-15 22:40:04,868]\u001b[0m Trial 7 finished with value: 0.9329268292682927 and parameters: {'n_estimators': 260, 'max_depth': 26, 'min_samples_leaf': 7, 'criterion': 'entropy'}. Best is trial 3 with value: 0.9929382867669635.\u001b[0m\n",
      "\u001b[32m[I 2022-06-15 22:40:07,661]\u001b[0m Trial 8 finished with value: 0.9142508391821788 and parameters: {'n_estimators': 240, 'max_depth': 22, 'min_samples_leaf': 8, 'criterion': 'gini'}. Best is trial 3 with value: 0.9929382867669635.\u001b[0m\n",
      "\u001b[32m[I 2022-06-15 22:40:12,293]\u001b[0m Trial 9 finished with value: 0.9831546707503829 and parameters: {'n_estimators': 290, 'max_depth': 23, 'min_samples_leaf': 3, 'criterion': 'entropy'}. Best is trial 3 with value: 0.9929382867669635.\u001b[0m\n",
      "\u001b[32m[I 2022-06-15 22:40:15,263]\u001b[0m Trial 10 finished with value: 0.9911015648972077 and parameters: {'n_estimators': 180, 'max_depth': 18, 'min_samples_leaf': 2, 'criterion': 'entropy'}. Best is trial 3 with value: 0.9929382867669635.\u001b[0m\n",
      "\u001b[32m[I 2022-06-15 22:40:18,245]\u001b[0m Trial 11 finished with value: 0.9911015648972077 and parameters: {'n_estimators': 180, 'max_depth': 18, 'min_samples_leaf': 2, 'criterion': 'entropy'}. Best is trial 3 with value: 0.9929382867669635.\u001b[0m\n",
      "\u001b[32m[I 2022-06-15 22:40:20,317]\u001b[0m Trial 12 finished with value: 0.9527583053946966 and parameters: {'n_estimators': 140, 'max_depth': 19, 'min_samples_leaf': 5, 'criterion': 'entropy'}. Best is trial 3 with value: 0.9929382867669635.\u001b[0m\n",
      "\u001b[32m[I 2022-06-15 22:40:23,745]\u001b[0m Trial 13 finished with value: 0.99049371358479 and parameters: {'n_estimators': 210, 'max_depth': 17, 'min_samples_leaf': 2, 'criterion': 'entropy'}. Best is trial 3 with value: 0.9929382867669635.\u001b[0m\n",
      "\u001b[32m[I 2022-06-15 22:40:26,664]\u001b[0m Trial 14 finished with value: 0.9417149832163564 and parameters: {'n_estimators': 210, 'max_depth': 19, 'min_samples_leaf': 6, 'criterion': 'entropy'}. Best is trial 3 with value: 0.9929382867669635.\u001b[0m\n",
      "\u001b[32m[I 2022-06-15 22:40:29,071]\u001b[0m Trial 15 finished with value: 0.9834660134721371 and parameters: {'n_estimators': 150, 'max_depth': 25, 'min_samples_leaf': 3, 'criterion': 'entropy'}. Best is trial 3 with value: 0.9929382867669635.\u001b[0m\n",
      "\u001b[32m[I 2022-06-15 22:40:32,560]\u001b[0m Trial 16 finished with value: 0.9822194972409565 and parameters: {'n_estimators': 220, 'max_depth': 20, 'min_samples_leaf': 3, 'criterion': 'entropy'}. Best is trial 3 with value: 0.9929382867669635.\u001b[0m\n",
      "\u001b[32m[I 2022-06-15 22:40:35,152]\u001b[0m Trial 17 finished with value: 0.9495875343721357 and parameters: {'n_estimators': 180, 'max_depth': 17, 'min_samples_leaf': 5, 'criterion': 'entropy'}. Best is trial 3 with value: 0.9929382867669635.\u001b[0m\n",
      "\u001b[32m[I 2022-06-15 22:40:36,550]\u001b[0m Trial 18 finished with value: 0.9063738944800244 and parameters: {'n_estimators': 120, 'max_depth': 22, 'min_samples_leaf': 9, 'criterion': 'gini'}. Best is trial 3 with value: 0.9929382867669635.\u001b[0m\n",
      "\u001b[32m[I 2022-06-15 22:40:39,670]\u001b[0m Trial 19 finished with value: 0.9920245398773007 and parameters: {'n_estimators': 190, 'max_depth': 19, 'min_samples_leaf': 2, 'criterion': 'entropy'}. Best is trial 3 with value: 0.9929382867669635.\u001b[0m\n"
     ]
    },
    {
     "name": "stdout",
     "output_type": "stream",
     "text": [
      "Наилучшие значения гиперпараметров {'n_estimators': 200, 'max_depth': 22, 'min_samples_leaf': 2, 'criterion': 'entropy'}\n",
      "Wall time: 1min\n"
     ]
    }
   ],
   "source": [
    "%%time\n",
    "# cоздаем объект исследования\n",
    "# можем напрямую указать, что нам необходимо максимизировать метрику direction=\"maximize\"\n",
    "study = optuna.create_study(study_name=\"RandomForestClassifier\", direction=\"maximize\")\n",
    "# ищем лучшую комбинацию гиперпараметров n_trials раз\n",
    "study.optimize(optuna_rf, n_trials=20)\n",
    "print(\"Наилучшие значения гиперпараметров {}\".format(study.best_params))"
   ]
  },
  {
   "cell_type": "code",
   "execution_count": 42,
   "id": "be8e9b20",
   "metadata": {},
   "outputs": [
    {
     "name": "stdout",
     "output_type": "stream",
     "text": [
      "f1_score на обучающем наборе: 0.99\n",
      "f1_score на тестовом наборе: 0.82\n"
     ]
    }
   ],
   "source": [
    "model = ensemble.RandomForestClassifier(**study.best_params,random_state=random_state)\n",
    "\n",
    "model.fit(X_train, y_train)\n",
    "\n",
    "y_train_pred = model.predict(X_train)\n",
    "print('f1_score на обучающем наборе: {:.2f}'.format(metrics.f1_score(y_train, y_train_pred)))\n",
    "\n",
    "y_test_pred = model.predict(X_test)\n",
    "print('f1_score на тестовом наборе: {:.2f}'.format(metrics.f1_score(y_test, y_test_pred)))"
   ]
  },
  {
   "cell_type": "markdown",
   "id": "8e6f5e36",
   "metadata": {},
   "source": [
    "Добавляем кросс-валидацию"
   ]
  },
  {
   "cell_type": "code",
   "execution_count": 43,
   "id": "58c244ea",
   "metadata": {},
   "outputs": [],
   "source": [
    "def optuna_rf(trial):\n",
    "    # задаем пространства поиска гиперпараметров\n",
    "    n_estimators = trial.suggest_int('n_estimators',  100, 300, 10)\n",
    "    max_depth = trial.suggest_int('max_depth', 15, 26, 1)\n",
    "    min_samples_leaf = trial.suggest_int('min_samples_leaf', 2, 9, 1)\n",
    "    criterion = trial.suggest_categorical('criterion', ['entropy','gini'])\n",
    "\n",
    "    # создаем модель\n",
    "    model = ensemble.RandomForestClassifier(n_estimators = n_estimators,\n",
    "                                          max_depth = max_depth,\n",
    "                                          min_samples_leaf = min_samples_leaf,\n",
    "                                          criterion = criterion,\n",
    "                                          random_state = random_state)\n",
    "    # обучаем модель\n",
    "    model.fit(X_train, y_train)\n",
    "    score = cross_val_score(model, X, y, cv = 5, scoring=\"f1\", n_jobs=-1).mean()\n",
    "\n",
    "    return score"
   ]
  },
  {
   "cell_type": "code",
   "execution_count": 44,
   "id": "6a7516f2",
   "metadata": {},
   "outputs": [
    {
     "name": "stderr",
     "output_type": "stream",
     "text": [
      "\u001b[32m[I 2022-06-15 22:40:43,171]\u001b[0m A new study created in memory with name: RandomForestClassifier\u001b[0m\n",
      "\u001b[32m[I 2022-06-15 22:40:47,078]\u001b[0m Trial 0 finished with value: 0.8020446312971636 and parameters: {'n_estimators': 100, 'max_depth': 15, 'min_samples_leaf': 8, 'criterion': 'entropy'}. Best is trial 0 with value: 0.8020446312971636.\u001b[0m\n",
      "\u001b[32m[I 2022-06-15 22:41:00,055]\u001b[0m Trial 1 finished with value: 0.8006026236419806 and parameters: {'n_estimators': 300, 'max_depth': 24, 'min_samples_leaf': 8, 'criterion': 'gini'}. Best is trial 0 with value: 0.8020446312971636.\u001b[0m\n",
      "\u001b[32m[I 2022-06-15 22:41:04,882]\u001b[0m Trial 2 finished with value: 0.8005877903853895 and parameters: {'n_estimators': 150, 'max_depth': 16, 'min_samples_leaf': 8, 'criterion': 'gini'}. Best is trial 0 with value: 0.8020446312971636.\u001b[0m\n",
      "\u001b[32m[I 2022-06-15 22:41:09,812]\u001b[0m Trial 3 finished with value: 0.8030935019343112 and parameters: {'n_estimators': 140, 'max_depth': 20, 'min_samples_leaf': 6, 'criterion': 'gini'}. Best is trial 3 with value: 0.8030935019343112.\u001b[0m\n",
      "\u001b[32m[I 2022-06-15 22:41:18,426]\u001b[0m Trial 4 finished with value: 0.8021215697660893 and parameters: {'n_estimators': 270, 'max_depth': 21, 'min_samples_leaf': 8, 'criterion': 'gini'}. Best is trial 3 with value: 0.8030935019343112.\u001b[0m\n",
      "\u001b[32m[I 2022-06-15 22:41:26,195]\u001b[0m Trial 5 finished with value: 0.8040076125726306 and parameters: {'n_estimators': 240, 'max_depth': 16, 'min_samples_leaf': 7, 'criterion': 'gini'}. Best is trial 5 with value: 0.8040076125726306.\u001b[0m\n",
      "\u001b[32m[I 2022-06-15 22:41:32,741]\u001b[0m Trial 6 finished with value: 0.8144667286233215 and parameters: {'n_estimators': 160, 'max_depth': 17, 'min_samples_leaf': 2, 'criterion': 'gini'}. Best is trial 6 with value: 0.8144667286233215.\u001b[0m\n",
      "\u001b[32m[I 2022-06-15 22:41:41,520]\u001b[0m Trial 7 finished with value: 0.8153200401279097 and parameters: {'n_estimators': 210, 'max_depth': 25, 'min_samples_leaf': 2, 'criterion': 'gini'}. Best is trial 7 with value: 0.8153200401279097.\u001b[0m\n",
      "\u001b[32m[I 2022-06-15 22:41:47,838]\u001b[0m Trial 8 finished with value: 0.8049520864935185 and parameters: {'n_estimators': 150, 'max_depth': 19, 'min_samples_leaf': 5, 'criterion': 'entropy'}. Best is trial 7 with value: 0.8153200401279097.\u001b[0m\n",
      "\u001b[32m[I 2022-06-15 22:41:55,914]\u001b[0m Trial 9 finished with value: 0.8152868794265684 and parameters: {'n_estimators': 210, 'max_depth': 15, 'min_samples_leaf': 3, 'criterion': 'gini'}. Best is trial 7 with value: 0.8153200401279097.\u001b[0m\n",
      "\u001b[32m[I 2022-06-15 22:42:04,525]\u001b[0m Trial 10 finished with value: 0.816747443805151 and parameters: {'n_estimators': 200, 'max_depth': 26, 'min_samples_leaf': 4, 'criterion': 'entropy'}. Best is trial 10 with value: 0.816747443805151.\u001b[0m\n",
      "\u001b[32m[I 2022-06-15 22:42:13,440]\u001b[0m Trial 11 finished with value: 0.8140772561684706 and parameters: {'n_estimators': 210, 'max_depth': 26, 'min_samples_leaf': 4, 'criterion': 'entropy'}. Best is trial 10 with value: 0.816747443805151.\u001b[0m\n",
      "\u001b[32m[I 2022-06-15 22:42:22,491]\u001b[0m Trial 12 finished with value: 0.8122491091332884 and parameters: {'n_estimators': 190, 'max_depth': 26, 'min_samples_leaf': 2, 'criterion': 'entropy'}. Best is trial 10 with value: 0.816747443805151.\u001b[0m\n",
      "\u001b[32m[I 2022-06-15 22:42:32,731]\u001b[0m Trial 13 finished with value: 0.812518124084747 and parameters: {'n_estimators': 240, 'max_depth': 23, 'min_samples_leaf': 4, 'criterion': 'entropy'}. Best is trial 10 with value: 0.816747443805151.\u001b[0m\n",
      "\u001b[32m[I 2022-06-15 22:42:41,304]\u001b[0m Trial 14 finished with value: 0.8133325810067366 and parameters: {'n_estimators': 190, 'max_depth': 24, 'min_samples_leaf': 3, 'criterion': 'entropy'}. Best is trial 10 with value: 0.816747443805151.\u001b[0m\n",
      "\u001b[32m[I 2022-06-15 22:42:51,576]\u001b[0m Trial 15 finished with value: 0.8136899006113054 and parameters: {'n_estimators': 240, 'max_depth': 22, 'min_samples_leaf': 4, 'criterion': 'entropy'}. Best is trial 10 with value: 0.816747443805151.\u001b[0m\n",
      "\u001b[32m[I 2022-06-15 22:42:58,778]\u001b[0m Trial 16 finished with value: 0.8118272926545256 and parameters: {'n_estimators': 180, 'max_depth': 25, 'min_samples_leaf': 3, 'criterion': 'gini'}. Best is trial 10 with value: 0.816747443805151.\u001b[0m\n",
      "\u001b[32m[I 2022-06-15 22:43:03,491]\u001b[0m Trial 17 finished with value: 0.804654921275637 and parameters: {'n_estimators': 110, 'max_depth': 24, 'min_samples_leaf': 5, 'criterion': 'entropy'}. Best is trial 10 with value: 0.816747443805151.\u001b[0m\n",
      "\u001b[32m[I 2022-06-15 22:43:12,740]\u001b[0m Trial 18 finished with value: 0.81735583326591 and parameters: {'n_estimators': 220, 'max_depth': 26, 'min_samples_leaf': 2, 'criterion': 'gini'}. Best is trial 18 with value: 0.81735583326591.\u001b[0m\n",
      "\u001b[32m[I 2022-06-15 22:43:23,328]\u001b[0m Trial 19 finished with value: 0.811101224990491 and parameters: {'n_estimators': 270, 'max_depth': 26, 'min_samples_leaf': 6, 'criterion': 'entropy'}. Best is trial 18 with value: 0.81735583326591.\u001b[0m\n"
     ]
    },
    {
     "name": "stdout",
     "output_type": "stream",
     "text": [
      "Наилучшие значения гиперпараметров {'n_estimators': 220, 'max_depth': 26, 'min_samples_leaf': 2, 'criterion': 'gini'}\n",
      "Wall time: 2min 40s\n"
     ]
    }
   ],
   "source": [
    "%%time\n",
    "# cоздаем объект исследования\n",
    "# можем напрямую указать, что нам необходимо максимизировать метрику direction=\"maximize\"\n",
    "study = optuna.create_study(study_name=\"RandomForestClassifier\", direction=\"maximize\")\n",
    "# ищем лучшую комбинацию гиперпараметров n_trials раз\n",
    "study.optimize(optuna_rf, n_trials=20)\n",
    "print(\"Наилучшие значения гиперпараметров {}\".format(study.best_params))"
   ]
  },
  {
   "cell_type": "code",
   "execution_count": 45,
   "id": "e16e4680",
   "metadata": {},
   "outputs": [
    {
     "name": "stdout",
     "output_type": "stream",
     "text": [
      "f1_score на обучающем наборе: 0.99\n",
      "f1_score на тестовом наборе: 0.82\n"
     ]
    }
   ],
   "source": [
    "model = ensemble.RandomForestClassifier(**study.best_params,random_state=random_state)\n",
    "\n",
    "model.fit(X_train, y_train)\n",
    "\n",
    "y_train_pred = model.predict(X_train)\n",
    "print('f1_score на обучающем наборе: {:.2f}'.format(metrics.f1_score(y_train, y_train_pred)))\n",
    "\n",
    "y_test_pred = model.predict(X_test)\n",
    "print('f1_score на тестовом наборе: {:.2f}'.format(metrics.f1_score(y_test, y_test_pred)))"
   ]
  },
  {
   "cell_type": "markdown",
   "id": "c0eaf27d",
   "metadata": {},
   "source": [
    "# Сравнение методов оптимизации гиперпараметров"
   ]
  },
  {
   "cell_type": "code",
   "execution_count": 47,
   "id": "0580b809",
   "metadata": {},
   "outputs": [
    {
     "data": {
      "text/html": [
       "<div>\n",
       "<style scoped>\n",
       "    .dataframe tbody tr th:only-of-type {\n",
       "        vertical-align: middle;\n",
       "    }\n",
       "\n",
       "    .dataframe tbody tr th {\n",
       "        vertical-align: top;\n",
       "    }\n",
       "\n",
       "    .dataframe thead tr th {\n",
       "        text-align: left;\n",
       "    }\n",
       "</style>\n",
       "<table border=\"1\" class=\"dataframe\">\n",
       "  <thead>\n",
       "    <tr>\n",
       "      <th></th>\n",
       "      <th colspan=\"2\" halign=\"left\">Basic</th>\n",
       "      <th colspan=\"2\" halign=\"left\">GridSearchCV</th>\n",
       "      <th colspan=\"2\" halign=\"left\">RandomizedSearchCV</th>\n",
       "      <th colspan=\"2\" halign=\"left\">Hyperopt</th>\n",
       "      <th colspan=\"2\" halign=\"left\">Hyperopt+CV</th>\n",
       "      <th colspan=\"2\" halign=\"left\">Optuna</th>\n",
       "      <th colspan=\"2\" halign=\"left\">Optuna+CV</th>\n",
       "    </tr>\n",
       "    <tr>\n",
       "      <th></th>\n",
       "      <th>f1_score</th>\n",
       "      <th>time</th>\n",
       "      <th>f1_score</th>\n",
       "      <th>time</th>\n",
       "      <th>f1_score</th>\n",
       "      <th>time</th>\n",
       "      <th>f1_score</th>\n",
       "      <th>time</th>\n",
       "      <th>f1_score</th>\n",
       "      <th>time</th>\n",
       "      <th>f1_score</th>\n",
       "      <th>time</th>\n",
       "      <th>f1_score</th>\n",
       "      <th>time</th>\n",
       "    </tr>\n",
       "  </thead>\n",
       "  <tbody>\n",
       "    <tr>\n",
       "      <th>LogReg</th>\n",
       "      <td>0.78</td>\n",
       "      <td>2.38 s</td>\n",
       "      <td>0.79</td>\n",
       "      <td>15min 51s</td>\n",
       "      <td>0.79</td>\n",
       "      <td>9min 49s</td>\n",
       "      <td>0.78</td>\n",
       "      <td>5min 3s</td>\n",
       "      <td>0.79</td>\n",
       "      <td>26min 6s</td>\n",
       "      <td>0.78</td>\n",
       "      <td>7min 44s</td>\n",
       "      <td>0.78</td>\n",
       "      <td>34min 49s</td>\n",
       "    </tr>\n",
       "    <tr>\n",
       "      <th>RandomForest</th>\n",
       "      <td>0.78</td>\n",
       "      <td>2 s</td>\n",
       "      <td>0.82</td>\n",
       "      <td>20min 5s</td>\n",
       "      <td>0.79</td>\n",
       "      <td>1min 46s</td>\n",
       "      <td>0.83</td>\n",
       "      <td>1min</td>\n",
       "      <td>0.82</td>\n",
       "      <td>4min 12s</td>\n",
       "      <td>0.82</td>\n",
       "      <td>1min</td>\n",
       "      <td>0.82</td>\n",
       "      <td>2min 40s</td>\n",
       "    </tr>\n",
       "  </tbody>\n",
       "</table>\n",
       "</div>"
      ],
      "text/plain": [
       "                Basic         GridSearchCV            RandomizedSearchCV  \\\n",
       "             f1_score    time     f1_score       time           f1_score   \n",
       "LogReg           0.78  2.38 s         0.79  15min 51s               0.79   \n",
       "RandomForest     0.78     2 s         0.82   20min 5s               0.79   \n",
       "\n",
       "                       Hyperopt          Hyperopt+CV             Optuna  \\\n",
       "                  time f1_score     time    f1_score      time f1_score   \n",
       "LogReg        9min 49s     0.78  5min 3s        0.79  26min 6s     0.78   \n",
       "RandomForest  1min 46s     0.83     1min        0.82  4min 12s     0.82   \n",
       "\n",
       "                       Optuna+CV             \n",
       "                  time  f1_score       time  \n",
       "LogReg        7min 44s      0.78  34min 49s  \n",
       "RandomForest      1min      0.82   2min 40s  "
      ]
     },
     "execution_count": 47,
     "metadata": {},
     "output_type": "execute_result"
    }
   ],
   "source": [
    "comparison = pd.DataFrame([[0.78,'2.38 s',0.79, '15min 51s',0.79,'9min 49s',0.78,'5min 3s',0.79,'26min 6s',0.78,'7min 44s',0.78,'34min 49s'\n",
    "],[0.78,'2 s',0.82,'20min 5s',0.79,'1min 46s',0.83,'1min',0.82,'4min 12s',0.82,'1min',0.82,'2min 40s']],\n",
    "    index=['LogReg','RandomForest'],\n",
    "    columns=[['Basic','Basic','GridSearchCV','GridSearchCV', 'RandomizedSearchCV', 'RandomizedSearchCV', 'Hyperopt', 'Hyperopt', 'Hyperopt+CV', 'Hyperopt+CV', 'Optuna', 'Optuna', 'Optuna+CV', 'Optuna+CV'],\n",
    "             ['f1_score', 'time','f1_score', 'time','f1_score', 'time','f1_score', 'time','f1_score', 'time','f1_score', 'time','f1_score', 'time']])\n",
    "comparison"
   ]
  },
  {
   "cell_type": "markdown",
   "id": "d14008fd",
   "metadata": {},
   "source": [
    "1. Наилучший f1_score: 0.83 (RandomForest, гиперпараметры {'criterion': 0, 'max_depth': 24.0, 'min_samples_leaf': 2.0, 'n_estimators': 210.0}, подобраны с помощью Hyperopt).\n",
    "2. Подбор параметров и обучение модели случайного леса проходит стабильно быстрее по сравнению с логистической регрессией.\n",
    "3. Кросс-валидация существенно увеличивает время подбора параметров и обучения, и лишь в одном случае из четырех для данной задаче позволила улучшить значение метрики."
   ]
  },
  {
   "cell_type": "code",
   "execution_count": null,
   "id": "08c8151d",
   "metadata": {},
   "outputs": [],
   "source": []
  }
 ],
 "metadata": {
  "kernelspec": {
   "display_name": "Python 3.8.10 64-bit",
   "language": "python",
   "name": "python3"
  },
  "language_info": {
   "codemirror_mode": {
    "name": "ipython",
    "version": 3
   },
   "file_extension": ".py",
   "mimetype": "text/x-python",
   "name": "python",
   "nbconvert_exporter": "python",
   "pygments_lexer": "ipython3",
   "version": "3.8.10"
  },
  "vscode": {
   "interpreter": {
    "hash": "916dbcbb3f70747c44a77c7bcd40155683ae19c65e1c03b4aa3499c5328201f1"
   }
  }
 },
 "nbformat": 4,
 "nbformat_minor": 5
}
